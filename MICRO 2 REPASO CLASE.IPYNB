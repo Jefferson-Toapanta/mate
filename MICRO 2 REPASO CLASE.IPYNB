{
 "cells": [
  {
   "cell_type": "code",
   "execution_count": 3,
   "metadata": {},
   "outputs": [
    {
     "data": {
      "application/vnd.jupyter.widget-view+json": {
       "model_id": "9934e0a8861342eb9b1a91ad5baff721",
       "version_major": 2,
       "version_minor": 0
      },
      "text/plain": [
       "interactive(children=(FloatSlider(value=5.0, description='R', max=10.0, min=-10.0), Output()), _dom_classes=('…"
      ]
     },
     "metadata": {},
     "output_type": "display_data"
    },
    {
     "data": {
      "text/plain": [
       "<function __main__.plot_function(R)>"
      ]
     },
     "execution_count": 3,
     "metadata": {},
     "output_type": "execute_result"
    }
   ],
   "source": [
    "import numpy as np\n",
    "import matplotlib.pyplot as plt\n",
    "from ipywidgets import interact, FloatSlider\n",
    "\n",
    "# Define la función\n",
    "def plot_function(R):\n",
    "    x = np.linspace(-10, 10, 500)  # Genera valores de x\n",
    "    y = R - x**2  # Calcula los valores de y\n",
    "    \n",
    "    # Configuración del gráfico\n",
    "    plt.figure(figsize=(8, 6))\n",
    "    plt.plot(x, y, label=f'F(x) = {R} - x^2')\n",
    "    plt.axhline(0, color='black', linewidth=0.8, linestyle='--')  # Línea horizontal en y=0\n",
    "    plt.axvline(0, color='black', linewidth=0.8, linestyle='--')  # Línea vertical en x=0\n",
    "    plt.title('Gráfico de F(x) = R - x^2', fontsize=14)\n",
    "    plt.xlabel('x', fontsize=12)\n",
    "    plt.ylabel('F(x)', fontsize=12)\n",
    "    plt.legend(fontsize=12)\n",
    "    plt.grid(alpha=0.4)\n",
    "    plt.show()\n",
    "\n",
    "# Crea el slider interactivo\n",
    "interact(plot_function, R=FloatSlider(value=5, min=-10, max=10, step=0.1, description='R'))\n"
   ]
  },
  {
   "cell_type": "code",
   "execution_count": 4,
   "metadata": {},
   "outputs": [
    {
     "data": {
      "application/vnd.jupyter.widget-view+json": {
       "model_id": "3e845bccbb144b688f6bbfff85a544e6",
       "version_major": 2,
       "version_minor": 0
      },
      "text/plain": [
       "interactive(children=(FloatSlider(value=1.0, description='R', max=10.0, min=-10.0), Output()), _dom_classes=('…"
      ]
     },
     "metadata": {},
     "output_type": "display_data"
    },
    {
     "data": {
      "text/plain": [
       "<function __main__.plot_function(R)>"
      ]
     },
     "execution_count": 4,
     "metadata": {},
     "output_type": "execute_result"
    }
   ],
   "source": [
    "import numpy as np\n",
    "import matplotlib.pyplot as plt\n",
    "from ipywidgets import interact, FloatSlider\n",
    "\n",
    "# Define la función\n",
    "def plot_function(R):\n",
    "    x = np.linspace(-2, 2, 500)  # Genera valores de x\n",
    "    y = R * x + x**3 - x**5  # Calcula los valores de y\n",
    "    \n",
    "    # Configuración del gráfico\n",
    "    plt.figure(figsize=(8, 6))\n",
    "    plt.plot(x, y, label=f'F(x) = {R}x + x^3 - x^5')\n",
    "    plt.axhline(0, color='black', linewidth=0.8, linestyle='--')  # Línea horizontal en y=0\n",
    "    plt.axvline(0, color='black', linewidth=0.8, linestyle='--')  # Línea vertical en x=0\n",
    "    plt.title('Gráfico de F(x) = Rx + x^3 - x^5', fontsize=14)\n",
    "    plt.xlabel('x', fontsize=12)\n",
    "    plt.ylabel('F(x)', fontsize=12)\n",
    "    plt.legend(fontsize=12)\n",
    "    plt.grid(alpha=0.4)\n",
    "    plt.show()\n",
    "\n",
    "# Crea el slider interactivo\n",
    "interact(plot_function, R=FloatSlider(value=1, min=-10, max=10, step=0.1, description='R'))\n"
   ]
  },
  {
   "cell_type": "code",
   "execution_count": 5,
   "metadata": {},
   "outputs": [
    {
     "data": {
      "application/vnd.jupyter.widget-view+json": {
       "model_id": "a4faaec51835466ca4f044ea0dc7d972",
       "version_major": 2,
       "version_minor": 0
      },
      "text/plain": [
       "interactive(children=(FloatSlider(value=0.0, description='r', max=5.0, min=-5.0), Output()), _dom_classes=('wi…"
      ]
     },
     "metadata": {},
     "output_type": "display_data"
    }
   ],
   "source": [
    "import numpy as np\n",
    "\n",
    "import matplotlib.pyplot as plt\n",
    "\n",
    "from ipywidgets import interact, FloatSlider\n",
    "\n",
    "\n",
    "\n",
    "def plot_function(r):\n",
    "\n",
    "    # Rango de x\n",
    "\n",
    "    x = np.linspace(-1, 1, 500)\n",
    "\n",
    "    \n",
    "\n",
    "    # Función f(x) = xr + x^3 - x**5\n",
    "\n",
    "    f = x*r + x**3 - x**5\n",
    "\n",
    "    \n",
    "\n",
    "    # Crear el gráfico\n",
    "\n",
    "    plt.figure(figsize=(8, 6))\n",
    "\n",
    "    plt.plot(x, f, label=f\"f(x) = x*{r} + x^3 - x^5\")\n",
    "\n",
    "    plt.axhline(0, color='gray', linestyle='--', linewidth=0.8)\n",
    "\n",
    "    plt.axvline(0, color='gray', linestyle='--', linewidth=0.8)\n",
    "\n",
    "    plt.xlabel(\"x\")\n",
    "\n",
    "    plt.ylabel(\"f(x)\")\n",
    "\n",
    "    plt.title(\"Función : f(x) = x*r + x^3 -x^5\")\n",
    "\n",
    "    plt.legend()\n",
    "\n",
    "    plt.grid()\n",
    "\n",
    "    plt.show()\n",
    "\n",
    "\n",
    "\n",
    "# Crear el slider para el parámetro r\n",
    "\n",
    "interact(plot_function, r=FloatSlider(value=0, min=-5, max=5, step=0.1, description='r'));"
   ]
  },
  {
   "cell_type": "code",
   "execution_count": 6,
   "metadata": {},
   "outputs": [
    {
     "data": {
      "application/vnd.jupyter.widget-view+json": {
       "model_id": "7ff9bc90f4004ef2a855a2a0402d875b",
       "version_major": 2,
       "version_minor": 0
      },
      "text/plain": [
       "interactive(children=(FloatSlider(value=1.0, description='R', max=10.0, min=-10.0), Output()), _dom_classes=('…"
      ]
     },
     "metadata": {},
     "output_type": "display_data"
    },
    {
     "data": {
      "text/plain": [
       "<function __main__.plot_function(R)>"
      ]
     },
     "execution_count": 6,
     "metadata": {},
     "output_type": "execute_result"
    }
   ],
   "source": [
    "import numpy as np\n",
    "import matplotlib.pyplot as plt\n",
    "from ipywidgets import interact, FloatSlider\n",
    "\n",
    "# Define la función\n",
    "def plot_function(R):\n",
    "    x = np.linspace(-2, 2, 500)  # Genera valores de x\n",
    "    y = x**4 - x**2  # Calcula los valores de y con la nueva función\n",
    "    \n",
    "    # Configuración del gráfico\n",
    "    plt.figure(figsize=(8, 6))\n",
    "    plt.plot(x, y, label=f'F(x) = x^4 - x^2')\n",
    "    plt.axhline(0, color='black', linewidth=0.8, linestyle='--')  # Línea horizontal en y=0\n",
    "    plt.axvline(0, color='black', linewidth=0.8, linestyle='--')  # Línea vertical en x=0\n",
    "    plt.title('Gráfico de F(x) = x^4 - x^2', fontsize=14)\n",
    "    plt.xlabel('x', fontsize=12)\n",
    "    plt.ylabel('F(x)', fontsize=12)\n",
    "    plt.legend(fontsize=12)\n",
    "    plt.grid(alpha=0.4)\n",
    "    plt.show()\n",
    "\n",
    "# Crea el slider interactivo\n",
    "interact(plot_function, R=FloatSlider(value=1, min=-10, max=10, step=0.1, description='R'))\n"
   ]
  }
 ],
 "metadata": {
  "kernelspec": {
   "display_name": "mate",
   "language": "python",
   "name": "python3"
  },
  "language_info": {
   "codemirror_mode": {
    "name": "ipython",
    "version": 3
   },
   "file_extension": ".py",
   "mimetype": "text/x-python",
   "name": "python",
   "nbconvert_exporter": "python",
   "pygments_lexer": "ipython3",
   "version": "3.12.7"
  }
 },
 "nbformat": 4,
 "nbformat_minor": 2
}
