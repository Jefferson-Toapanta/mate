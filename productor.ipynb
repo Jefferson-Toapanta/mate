{
 "cells": [
  {
   "cell_type": "code",
   "execution_count": 24,
   "metadata": {},
   "outputs": [],
   "source": [
    "# Esta es la demanda Hessian end donde la vamos a maximizar \n",
    "\n",
    "from sympy import symbols, diff, Matrix, Eq, solve, simplify, det,init_printing\n",
    "\n",
    "# Initialize pretty printing\n",
    "\n",
    "init_printing(use_unicode=True)\n",
    "from sympy import symbols, diff, Matrix, Eq, solve, simplify, det,init_printing\n",
    "# Define symbols (variables)\n",
    "\n",
    "k, l, p_k, p_l, w, q, c, alpha, beta, h = symbols('k l p_k p_l w q c alpha beta h')"
   ]
  },
  {
   "cell_type": "code",
   "execution_count": 25,
   "metadata": {},
   "outputs": [],
   "source": [
    "# función a minimizar\n",
    "\n",
    "f = -(p_k*k + p_l*l)\n",
    "\n",
    "# Restricción\n",
    "g = q - (k**alpha * l**beta)\n",
    "\n",
    "# lagrage \n",
    "L = f + h * g"
   ]
  },
  {
   "cell_type": "code",
   "execution_count": 26,
   "metadata": {},
   "outputs": [],
   "source": [
    "# First-order conditions (FOCs)\n",
    "\n",
    "foc_k = diff(L, k)  # FOC with respect to k\n",
    "\n",
    "foc_l = diff(L, l)  # FOC with respect to l\n",
    "\n",
    "foc_h = diff(L, h)  # FOC with respect to h"
   ]
  },
  {
   "cell_type": "code",
   "execution_count": 27,
   "metadata": {},
   "outputs": [
    {
     "data": {
      "image/png": "[encoded data removed]",
      "text/latex": [
       "$\\displaystyle - k^{\\alpha} l^{\\beta} + q$"
      ],
      "text/plain": [
       "   α  β    \n",
       "- k ⋅l  + q"
      ]
     },
     "metadata": {},
     "output_type": "display_data"
    },
    {
     "data": {
      "image/png": "[encoded data removed]",
      "text/latex": [
       "$\\displaystyle - \\frac{\\alpha h k^{\\alpha} l^{\\beta}}{k} - p_{k}$"
      ],
      "text/plain": [
       "       α  β     \n",
       "  α⋅h⋅k ⋅l      \n",
       "- ───────── - pₖ\n",
       "      k         "
      ]
     },
     "metadata": {},
     "output_type": "display_data"
    },
    {
     "data": {
      "image/png": "[encoded data removed]",
      "text/latex": [
       "$\\displaystyle - \\frac{\\beta h k^{\\alpha} l^{\\beta}}{l} - p_{l}$"
      ],
      "text/plain": [
       "       α  β     \n",
       "  β⋅h⋅k ⋅l      \n",
       "- ───────── - pₗ\n",
       "      l         "
      ]
     },
     "metadata": {},
     "output_type": "display_data"
    }
   ],
   "source": [
    "display(foc_h)\n",
    "\n",
    "display(foc_k)\n",
    "\n",
    "display(foc_l)"
   ]
  },
  {
   "cell_type": "code",
   "execution_count": null,
   "metadata": {},
   "outputs": [
    {
     "data": {
      "image/png": "[encoded data removed]",
      "text/latex": [
       "$\\displaystyle \\left[ \\left( \\left(q \\left(\\left(\\frac{\\beta p_{k} q^{\\frac{1}{\\alpha}}}{\\alpha p_{l}}\\right)^{\\frac{\\alpha}{\\alpha + \\beta}}\\right)^{- \\beta}\\right)^{\\frac{1}{\\alpha}}, \\  \\left(\\frac{\\beta p_{k} q^{\\frac{1}{\\alpha}}}{\\alpha p_{l}}\\right)^{\\frac{\\alpha}{\\alpha + \\beta}}, \\  - \\frac{p_{k} \\left(\\left(q \\left(\\left(\\frac{\\beta p_{k} q^{\\frac{1}{\\alpha}}}{\\alpha p_{l}}\\right)^{\\frac{\\alpha}{\\alpha + \\beta}}\\right)^{- \\beta}\\right)^{\\frac{1}{\\alpha}}\\right)^{1 - \\alpha} \\left(\\left(\\frac{\\beta p_{k} q^{\\frac{1}{\\alpha}}}{\\alpha p_{l}}\\right)^{\\frac{\\alpha}{\\alpha + \\beta}}\\right)^{- \\beta}}{\\alpha}\\right)\\right]$"
      ],
      "text/plain": [
       "⎡⎛                                                                             ↪\n",
       "⎢⎜                                                                    ________ ↪\n",
       "⎢⎜                                                                   ╱         ↪\n",
       "⎢⎜         _________________________                                ╱    ⎛     ↪\n",
       "⎢⎜        ╱                      -β                                ╱     ⎜     ↪\n",
       "⎢⎜       ╱    ⎛              α  ⎞                   α             ╱      ⎜     ↪\n",
       "⎢⎜      ╱     ⎜            ─────⎟                 ─────          ╱       ⎜⎛    ↪\n",
       "⎢⎜     ╱      ⎜            α + β⎟                 α + β         ╱        ⎜⎜β⋅p ↪\n",
       "⎢⎜    ╱       ⎜⎛     α ___⎞     ⎟     ⎛     α ___⎞       -pₖ⋅α ╱       q⋅⎜⎜─── ↪\n",
       "⎢⎜   ╱        ⎜⎜β⋅pₖ⋅╲╱ q ⎟     ⎟     ⎜β⋅pₖ⋅╲╱ q ⎟           ╲╱          ⎝⎝    ↪\n",
       "⎢⎜α ╱       q⋅⎜⎜──────────⎟     ⎟   , ⎜──────────⎟     , ───────────────────── ↪\n",
       "⎣⎝╲╱          ⎝⎝   α⋅pₗ   ⎠     ⎠     ⎝   α⋅pₗ   ⎠                             ↪\n",
       "\n",
       "↪                  1 - α                       ⎞⎤\n",
       "↪ _________________                            ⎟⎥\n",
       "↪               -β                          -β ⎟⎥\n",
       "↪           α  ⎞         ⎛              α  ⎞   ⎟⎥\n",
       "↪         ─────⎟         ⎜            ─────⎟   ⎟⎥\n",
       "↪         α + β⎟         ⎜            α + β⎟   ⎟⎥\n",
       "↪   α ___⎞     ⎟         ⎜⎛     α ___⎞     ⎟   ⎟⎥\n",
       "↪ ₖ⋅╲╱ q ⎟     ⎟         ⎜⎜β⋅pₖ⋅╲╱ q ⎟     ⎟   ⎟⎥\n",
       "↪ ───────⎟     ⎟        ⋅⎜⎜──────────⎟     ⎟   ⎟⎥\n",
       "↪ α⋅pₗ   ⎠     ⎠         ⎝⎝   α⋅pₗ   ⎠     ⎠   ⎟⎥\n",
       "↪ ─────────────────────────────────────────────⎟⎥\n",
       "↪            α                                 ⎠⎦"
      ]
     },
     "metadata": {},
     "output_type": "display_data"
    }
   ],
   "source": [
    "# Solve the system of FOCs (condiciones de primer (orden-en ingles)\n",
    "\n",
    "solutions = solve([Eq(foc_k, 0), Eq(foc_l, 0), Eq(foc_h, 0)], (k, l, h))\n",
    "\n",
    "display(solutions)"
   ]
  },
  {
   "cell_type": "code",
   "execution_count": 43,
   "metadata": {},
   "outputs": [
    {
     "data": {
      "image/png": "[encoded data removed]",
      "text/latex": [
       "$\\displaystyle \\left(q \\left(\\left(\\frac{\\beta p_{k} q^{\\frac{1}{\\alpha}}}{\\alpha p_{l}}\\right)^{\\frac{\\alpha}{\\alpha + \\beta}}\\right)^{- \\beta}\\right)^{\\frac{1}{\\alpha}}$"
      ],
      "text/plain": [
       "         _________________________\n",
       "        ╱                      -β \n",
       "       ╱    ⎛              α  ⎞   \n",
       "      ╱     ⎜            ─────⎟   \n",
       "     ╱      ⎜            α + β⎟   \n",
       "    ╱       ⎜⎛     α ___⎞     ⎟   \n",
       "   ╱        ⎜⎜β⋅pₖ⋅╲╱ q ⎟     ⎟   \n",
       "α ╱       q⋅⎜⎜──────────⎟     ⎟   \n",
       "╲╱          ⎝⎝   α⋅pₗ   ⎠     ⎠   "
      ]
     },
     "metadata": {},
     "output_type": "display_data"
    },
    {
     "data": {
      "image/png": "[encoded data removed]",
      "text/latex": [
       "$\\displaystyle \\left(\\frac{\\beta p_{k} q^{\\frac{1}{\\alpha}}}{\\alpha p_{l}}\\right)^{\\frac{\\alpha}{\\alpha + \\beta}}$"
      ],
      "text/plain": [
       "              α  \n",
       "            ─────\n",
       "            α + β\n",
       "⎛     α ___⎞     \n",
       "⎜β⋅pₖ⋅╲╱ q ⎟     \n",
       "⎜──────────⎟     \n",
       "⎝   α⋅pₗ   ⎠     "
      ]
     },
     "metadata": {},
     "output_type": "display_data"
    },
    {
     "data": {
      "image/png": "[encoded data removed]",
      "text/latex": [
       "$\\displaystyle - \\frac{p_{k} \\left(\\left(q \\left(\\left(\\frac{\\beta p_{k} q^{\\frac{1}{\\alpha}}}{\\alpha p_{l}}\\right)^{\\frac{\\alpha}{\\alpha + \\beta}}\\right)^{- \\beta}\\right)^{\\frac{1}{\\alpha}}\\right)^{1 - \\alpha} \\left(\\left(\\frac{\\beta p_{k} q^{\\frac{1}{\\alpha}}}{\\alpha p_{l}}\\right)^{\\frac{\\alpha}{\\alpha + \\beta}}\\right)^{- \\beta}}{\\alpha}$"
      ],
      "text/plain": [
       "                                      1 - α                       \n",
       "             _________________________                            \n",
       "            ╱                      -β                          -β \n",
       "           ╱    ⎛              α  ⎞         ⎛              α  ⎞   \n",
       "          ╱     ⎜            ─────⎟         ⎜            ─────⎟   \n",
       "         ╱      ⎜            α + β⎟         ⎜            α + β⎟   \n",
       "        ╱       ⎜⎛     α ___⎞     ⎟         ⎜⎛     α ___⎞     ⎟   \n",
       "       ╱        ⎜⎜β⋅pₖ⋅╲╱ q ⎟     ⎟         ⎜⎜β⋅pₖ⋅╲╱ q ⎟     ⎟   \n",
       "-pₖ⋅α ╱       q⋅⎜⎜──────────⎟     ⎟        ⋅⎜⎜──────────⎟     ⎟   \n",
       "    ╲╱          ⎝⎝   α⋅pₗ   ⎠     ⎠         ⎝⎝   α⋅pₗ   ⎠     ⎠   \n",
       "──────────────────────────────────────────────────────────────────\n",
       "                                α                                 "
      ]
     },
     "metadata": {},
     "output_type": "display_data"
    }
   ],
   "source": [
    "# Extract the optimal values for k, l, and h\n",
    "\n",
    "op_k, op_l, op_h, = solutions [0]\n",
    "display(op_k)\n",
    "display (op_l)\n",
    "display(op_h)"
   ]
  },
  {
   "cell_type": "code",
   "execution_count": 51,
   "metadata": {},
   "outputs": [
    {
     "data": {
      "text/plain": [
       "'costo total de producir q unidades: '"
      ]
     },
     "metadata": {},
     "output_type": "display_data"
    },
    {
     "data": {
      "image/png": "[encoded data removed]",
      "text/latex": [
       "$\\displaystyle p_{k} \\left(q \\left(\\left(\\frac{\\beta p_{k} q^{\\frac{1}{\\alpha}}}{\\alpha p_{l}}\\right)^{\\frac{\\alpha}{\\alpha + \\beta}}\\right)^{- \\beta}\\right)^{\\frac{1}{\\alpha}} + p_{l} \\left(\\frac{\\beta p_{k} q^{\\frac{1}{\\alpha}}}{\\alpha p_{l}}\\right)^{\\frac{\\alpha}{\\alpha + \\beta}}$"
      ],
      "text/plain": [
       "            _________________________                       \n",
       "           ╱                      -β                        \n",
       "          ╱    ⎛              α  ⎞                       α  \n",
       "         ╱     ⎜            ─────⎟                     ─────\n",
       "        ╱      ⎜            α + β⎟                     α + β\n",
       "       ╱       ⎜⎛     α ___⎞     ⎟         ⎛     α ___⎞     \n",
       "      ╱        ⎜⎜β⋅pₖ⋅╲╱ q ⎟     ⎟         ⎜β⋅pₖ⋅╲╱ q ⎟     \n",
       "pₖ⋅α ╱       q⋅⎜⎜──────────⎟     ⎟    + pₗ⋅⎜──────────⎟     \n",
       "   ╲╱          ⎝⎝   α⋅pₗ   ⎠     ⎠         ⎝   α⋅pₗ   ⎠     "
      ]
     },
     "metadata": {},
     "output_type": "display_data"
    }
   ],
   "source": [
    "# calculamos costos totales\n",
    "\n",
    "# Define symbols (variables)\n",
    "CT_q = symbols('CT_q')\n",
    "\n",
    "CT_q = p_k*op_k + p_l*op_l\n",
    "\n",
    "display(\"costo total de producir q unidades: \", simplify(CT_q))\n"
   ]
  },
  {
   "cell_type": "code",
   "execution_count": 52,
   "metadata": {},
   "outputs": [
    {
     "data": {
      "text/plain": [
       "' costo marginal de producir q unidades: '"
      ]
     },
     "metadata": {},
     "output_type": "display_data"
    },
    {
     "data": {
      "image/png": "[encoded data removed]",
      "text/latex": [
       "$\\displaystyle \\frac{p_{k} \\left(q \\left(\\left(\\frac{\\beta p_{k} q^{\\frac{1}{\\alpha}}}{\\alpha p_{l}}\\right)^{\\frac{\\alpha}{\\alpha + \\beta}}\\right)^{- \\beta}\\right)^{\\frac{1}{\\alpha}} + p_{l} \\left(\\frac{\\beta p_{k} q^{\\frac{1}{\\alpha}}}{\\alpha p_{l}}\\right)^{\\frac{\\alpha}{\\alpha + \\beta}}}{q \\left(\\alpha + \\beta\\right)}$"
      ],
      "text/plain": [
       "            _________________________                       \n",
       "           ╱                      -β                        \n",
       "          ╱    ⎛              α  ⎞                       α  \n",
       "         ╱     ⎜            ─────⎟                     ─────\n",
       "        ╱      ⎜            α + β⎟                     α + β\n",
       "       ╱       ⎜⎛     α ___⎞     ⎟         ⎛     α ___⎞     \n",
       "      ╱        ⎜⎜β⋅pₖ⋅╲╱ q ⎟     ⎟         ⎜β⋅pₖ⋅╲╱ q ⎟     \n",
       "pₖ⋅α ╱       q⋅⎜⎜──────────⎟     ⎟    + pₗ⋅⎜──────────⎟     \n",
       "   ╲╱          ⎝⎝   α⋅pₗ   ⎠     ⎠         ⎝   α⋅pₗ   ⎠     \n",
       "────────────────────────────────────────────────────────────\n",
       "                         q⋅(α + β)                          "
      ]
     },
     "metadata": {},
     "output_type": "display_data"
    }
   ],
   "source": [
    "#calculas el costo marginal \n",
    "\n",
    "# Define symbols (variables)\n",
    "CMg_q = symbols('CMg_q')\n",
    "\n",
    "CMg_q = diff(CT_q, q)\n",
    "\n",
    "display(\" costo marginal de producir q unidades: \", simplify(CMg_q))"
   ]
  },
  {
   "cell_type": "code",
   "execution_count": 60,
   "metadata": {},
   "outputs": [
    {
     "data": {
      "image/png": "[encoded data removed]",
      "text/latex": [
       "$\\displaystyle 0.441635805469525 \\left(\\frac{q}{\\left(q^{5.0}\\right)^{0.142857142857143}}\\right)^{5.0} + 1.10408951367381 \\left(q^{5.0}\\right)^{0.285714285714286}$"
      ],
      "text/plain": [
       "                                              5.0                              ↪\n",
       "                  ⎛        -0.142857142857143⎞                             0.2 ↪\n",
       "                  ⎜  ⎛ 5.0⎞                  ⎟                       ⎛ 5.0⎞    ↪\n",
       "0.441635805469525⋅⎝q⋅⎝q   ⎠                  ⎠    + 1.10408951367381⋅⎝q   ⎠    ↪\n",
       "\n",
       "↪               \n",
       "↪ 85714285714286\n",
       "↪               \n",
       "↪               "
      ]
     },
     "metadata": {},
     "output_type": "display_data"
    },
    {
     "name": "stderr",
     "output_type": "stream",
     "text": [
      "<lambdifygenerated-14>:2: RuntimeWarning: divide by zero encountered in power\n",
      "  return 0.441635805469525*(q*(q**5.0)**(-0.142857142857143))**5.0 + 1.10408951367381*(q**5.0)**0.285714285714286\n",
      "<lambdifygenerated-14>:2: RuntimeWarning: invalid value encountered in multiply\n",
      "  return 0.441635805469525*(q*(q**5.0)**(-0.142857142857143))**5.0 + 1.10408951367381*(q**5.0)**0.285714285714286\n"
     ]
    },
    {
     "data": {
      "image/png": "[encoded data removed]",
      "text/latex": [
       "$\\displaystyle \\frac{0.630908293527892 \\left(\\frac{q}{\\left(q^{5.0}\\right)^{0.142857142857143}}\\right)^{5.0} + 1.57727073381973 \\left(q^{5.0}\\right)^{0.285714285714286}}{q}$"
      ],
      "text/plain": [
       "                                              5.0                              ↪\n",
       "                  ⎛        -0.142857142857143⎞                             0.2 ↪\n",
       "                  ⎜  ⎛ 5.0⎞                  ⎟                       ⎛ 5.0⎞    ↪\n",
       "0.630908293527892⋅⎝q⋅⎝q   ⎠                  ⎠    + 1.57727073381973⋅⎝q   ⎠    ↪\n",
       "────────────────────────────────────────────────────────────────────────────── ↪\n",
       "                                             q                                 ↪\n",
       "\n",
       "↪               \n",
       "↪ 85714285714286\n",
       "↪               \n",
       "↪               \n",
       "↪ ──────────────\n",
       "↪               "
      ]
     },
     "metadata": {},
     "output_type": "display_data"
    },
    {
     "name": "stderr",
     "output_type": "stream",
     "text": [
      "<lambdifygenerated-15>:2: RuntimeWarning: divide by zero encountered in power\n",
      "  return 0.630908293527892*(q*(q**5.0)**(-0.142857142857143))**5.0/q + 1.57727073381973*(q**5.0)**0.285714285714286/q\n",
      "<lambdifygenerated-15>:2: RuntimeWarning: invalid value encountered in multiply\n",
      "  return 0.630908293527892*(q*(q**5.0)**(-0.142857142857143))**5.0/q + 1.57727073381973*(q**5.0)**0.285714285714286/q\n",
      "<lambdifygenerated-15>:2: RuntimeWarning: invalid value encountered in divide\n",
      "  return 0.630908293527892*(q*(q**5.0)**(-0.142857142857143))**5.0/q + 1.57727073381973*(q**5.0)**0.285714285714286/q\n"
     ]
    },
    {
     "data": {
      "text/plain": [
       "<matplotlib.legend.Legend at 0x1f537ac2ec0>"
      ]
     },
     "execution_count": 60,
     "metadata": {},
     "output_type": "execute_result"
    },
    {
     "data": {
      "image/png": "[encoded data removed]",
      "text/plain": [
       "<Figure size 640x480 with 1 Axes>"
      ]
     },
     "metadata": {},
     "output_type": "display_data"
    }
   ],
   "source": [
    "import numpy as np\n",
    "\n",
    "import matplotlib.pyplot as plt\n",
    "\n",
    "from sympy import symbols, lambdify\n",
    "\n",
    "\n",
    "# solución numérica de q óptimo\n",
    "\n",
    "# # evaluar costo total  en valores específicos de los parámetros\n",
    "\n",
    "parametros = {p_k: 0.1, p_l: 2, alpha: 0.2, beta: 0.5}\n",
    "\n",
    "evaluated_CT = CT_q.subs(parametros)\n",
    "\n",
    "display(simplify(evaluated_CT))\n",
    "\n",
    "# Convert the symbolic expression to a numerical function\n",
    "\n",
    "CT_lambdified = lambdify(q, evaluated_CT)\n",
    "\n",
    "# Generate q values for the plot\n",
    "\n",
    "q_values = np.linspace(0, 10, 400)\n",
    "\n",
    "# Evaluate the function for each value of q\n",
    "\n",
    "CT_values = CT_lambdified(q_values)\n",
    "\n",
    "# Plotting using matplotlib\n",
    "\n",
    "plt.plot(q_values, CT_values, label='Costo total', color='blue')\n",
    "\n",
    "# Draw axes at (0, 0)\n",
    "\n",
    "plt.axhline(0, color='black', lw=1)  # Horizontal axis (y = 0)\n",
    "\n",
    "plt.axvline(0, color='black', lw=1)  # Vertical axis (x = 0)\n",
    "\n",
    "# Set limits for the axes to ensure the crossing is visible at (0,0)\n",
    "\n",
    "plt.xlim(0, 10)\n",
    "\n",
    "plt.ylim(0, 20)\n",
    "\n",
    "# Set labels and title\n",
    "\n",
    "plt.title('Costo total')\n",
    "\n",
    "plt.xlabel('q')\n",
    "\n",
    "plt.ylabel('CT(q)')\n",
    "\n",
    "# Add a grid and legend\n",
    "\n",
    "plt.grid(True)\n",
    "\n",
    "plt.legend()\n",
    "\n",
    "# # evaluar costo total y costo marginal en valores específicos de los parámetros\n",
    "\n",
    "evaluated_CMg = CMg_q.subs(parametros)\n",
    "\n",
    "display(simplify(evaluated_CMg))\n",
    "\n",
    "# Convert the symbolic expression to a numerical function\n",
    "\n",
    "CMg_lambdified = lambdify(q, evaluated_CMg)\n",
    "\n",
    "# Generate q values for the plot\n",
    "\n",
    "q_values = np.linspace(0, 10, 400)\n",
    "\n",
    "# Evaluate the function for each value of q\n",
    "\n",
    "CMg_values = CMg_lambdified(q_values)\n",
    "\n",
    "# Plotting using matplotlib\n",
    "\n",
    "plt.plot(q_values, CMg_values, label='Costo marginal', color='red')\n",
    "\n",
    "# Draw axes at (0, 0)\n",
    "\n",
    "plt.axhline(0, color='black', lw=1)  # Horizontal axis (y = 0)\n",
    "\n",
    "plt.axvline(0, color='black', lw=1)  # Vertical axis (x = 0)\n",
    "\n",
    "# Set limits for the axes to ensure the crossing is visible at (0,0)\n",
    "\n",
    "plt.xlim(0, 10)\n",
    "\n",
    "plt.ylim(0, 20)\n",
    "\n",
    "# Set labels and title\n",
    "\n",
    "plt.title('Costo marginal')\n",
    "\n",
    "plt.xlabel('q')\n",
    "\n",
    "plt.ylabel('CMq(q)')\n",
    "\n",
    "# Add a grid and legend\n",
    "\n",
    "plt.grid(True)\n",
    "\n",
    "plt.legend()"
   ]
  }
 ],
 "metadata": {
  "kernelspec": {
   "display_name": "mega",
   "language": "python",
   "name": "python3"
  },
  "language_info": {
   "codemirror_mode": {
    "name": "ipython",
    "version": 3
   },
   "file_extension": ".py",
   "mimetype": "text/x-python",
   "name": "python",
   "nbconvert_exporter": "python",
   "pygments_lexer": "ipython3",
   "version": "3.10.15"
  }
 },
 "nbformat": 4,
 "nbformat_minor": 2
}
