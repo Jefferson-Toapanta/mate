{
 "cells": [
  {
   "cell_type": "code",
   "execution_count": 2,
   "metadata": {},
   "outputs": [
    {
     "ename": "ModuleNotFoundError",
     "evalue": "No module named 'pandas'",
     "output_type": "error",
     "traceback": [
      "\u001b[1;31m---------------------------------------------------------------------------\u001b[0m",
      "\u001b[1;31mModuleNotFoundError\u001b[0m                       Traceback (most recent call last)",
      "Cell \u001b[1;32mIn[2], line 1\u001b[0m\n\u001b[1;32m----> 1\u001b[0m \u001b[38;5;28;01mimport\u001b[39;00m \u001b[38;5;21;01mpandas\u001b[39;00m \u001b[38;5;28;01mas\u001b[39;00m \u001b[38;5;21;01mpd\u001b[39;00m\n\u001b[0;32m      2\u001b[0m \u001b[38;5;28;01mimport\u001b[39;00m \u001b[38;5;21;01mmatplotlib\u001b[39;00m\u001b[38;5;21;01m.\u001b[39;00m\u001b[38;5;21;01mpyplot\u001b[39;00m \u001b[38;5;28;01mas\u001b[39;00m \u001b[38;5;21;01mplt\u001b[39;00m\n\u001b[0;32m      3\u001b[0m \u001b[38;5;28;01mimport\u001b[39;00m \u001b[38;5;21;01mnumpy\u001b[39;00m \u001b[38;5;28;01mas\u001b[39;00m \u001b[38;5;21;01mnp\u001b[39;00m\n",
      "\u001b[1;31mModuleNotFoundError\u001b[0m: No module named 'pandas'"
     ]
    }
   ],
   "source": [
    "import pandas as pd\n",
    "import matplotlib.pyplot as plt\n",
    "import numpy as np\n",
    "data_numeric = [\n",
    "    [w[0,0]+w[0,1], w[1,0]+w[1,1], -w[0,0]-w[1,0], -w[0,1]-w[1,1], \n",
    "     w[0,0]+w[0,1]+w[1,0]+w[1,1]-w[0,0]-w[1,0]-w[0,1]-w[1,1]],\n",
    "    [g[0,0]+g[0,1], g[1,0]+g[1,1], -g[0,0]-g[1,0], -g[0,1]-g[1,1], g[0,0]+g[0,1]+ g[1,0]+g[1,1]-g[0,0]-g[1,0]-g[0,1]-g[1,1]],\n",
    "    [-c[0,0], -c[1,0], +c[0,0]+c[1,0], 0,-c[0,0]-c[1,0]+c[0,0]+c[1,0]],\n",
    "    [-c[0,1], -c[1,1],0, +c[0,1]+c[1,1], -c[0,1]-c[1,1]+c[0,1]+c[1,1]]\n",
    "]\n",
    "\n",
    "s1_numeric = data_numeric[0][0] + data_numeric[1][0] + data_numeric[2][0] + data_numeric[3][0]\n",
    "print(s1_numeric)\n",
    "s2_numeric = data_numeric[0][1] + data_numeric[1][1] + data_numeric[2][1] + data_numeric[3][1]\n",
    "s3_numeric = data_numeric[0][2] + data_numeric[1][2] +  data_numeric[2][2]+ data_numeric[3][2]\n",
    "s4_numeric = data_numeric[0][3] + data_numeric[1][3] + data_numeric[2][3] + data_numeric[3][3]\n",
    "\n",
    "\n",
    "\n",
    "new_row_numeric = [s1_numeric, s2_numeric, s3_numeric, s4_numeric, 0]\n",
    "\n",
    "print(new_row_numeric)\n",
    "\n",
    "\n",
    "# Añadir la nueva fila  a los datos numéricos\n",
    "data_numeric.append(new_row_numeric)\n",
    "\n",
    "# Definir etiquetas de filas y columnas\n",
    "row_labels = ['salarios', 'ganancias', 'consumo b1', 'consumo b2', 'total']\n",
    "columns = ['Hogar 1', 'Hogar 2', 'Firma 1', 'Firma 2', 'Total']\n",
    "\n",
    "# Crear el DataFrame\n",
    "df_numeric = pd.DataFrame(data_numeric, columns=columns, index=row_labels)\n",
    "\n",
    "# Graficar la tabla usando matplotlib\n",
    "fig, ax = plt.subplots(figsize=(10, 6))  # Establecer tamaño de la figura\n",
    "ax.axis('tight')\n",
    "ax.axis('off')\n",
    "table = ax.table(cellText=df_numeric.values, colLabels=df_numeric.columns, rowLabels=df_numeric.index, cellLoc='center', loc='center')\n",
    "table.auto_set_font_size(False)\n",
    "table.set_fontsize(10)  # Ajustar el tamaño de la fuente según sea necesario\n",
    "table.scale(1.5, 1.5)  # Ajustar la escala para que todo encaje bien\n",
    "\n",
    "plt.show()"
   ]
  }
 ],
 "metadata": {
  "kernelspec": {
   "display_name": "mate",
   "language": "python",
   "name": "python3"
  },
  "language_info": {
   "codemirror_mode": {
    "name": "ipython",
    "version": 3
   },
   "file_extension": ".py",
   "mimetype": "text/x-python",
   "name": "python",
   "nbconvert_exporter": "python",
   "pygments_lexer": "ipython3",
   "version": "3.12.7"
  }
 },
 "nbformat": 4,
 "nbformat_minor": 2
}
