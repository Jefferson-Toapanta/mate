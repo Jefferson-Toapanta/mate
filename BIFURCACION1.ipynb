{
 "cells": [
  {
   "cell_type": "code",
   "execution_count": null,
   "metadata": {},
   "outputs": [
    {
     "data": {
      "application/vnd.jupyter.widget-view+json": {
       "model_id": "582d0bfaef554e3d88f48a90f8260c06",
       "version_major": 2,
       "version_minor": 0
      },
      "text/plain": [
       "interactive(children=(FloatSlider(value=0.0, description='c', max=10.0, min=-10.0), Output()), _dom_classes=('…"
      ]
     },
     "metadata": {},
     "output_type": "display_data"
    },
    {
     "data": {
      "text/plain": [
       "<function __main__.plot_function(c)>"
      ]
     },
     "execution_count": 3,
     "metadata": {},
     "output_type": "execute_result"
    }
   ],
   "source": [
    "import numpy as np\n",
    "\n",
    "import matplotlib.pyplot as plt\n",
    "\n",
    "from ipywidgets import interact\n",
    "\n",
    "\n",
    "\n",
    "# Función que grafica la función y = x^2 + c\n",
    "\n",
    "def plot_function(c):\n",
    "\n",
    "    # Definir el rango de x\n",
    "\n",
    "    x = np.linspace(-10, 10, 400)\n",
    "\n",
    "    # Definir la función y = x^2 + c\n",
    "\n",
    "    y = x**2 + c\n",
    "\n",
    "    \n",
    "\n",
    "    # Crear el gráfico\n",
    "\n",
    "    plt.figure(figsize=(8, 6))\n",
    "\n",
    "    plt.plot(x, y, label=f'$y = x^2 + {c}$')\n",
    "\n",
    "    plt.title('Gráfica interactiva de $y = x^2 + c$')\n",
    "\n",
    "    plt.xlabel('x')\n",
    "\n",
    "    plt.ylabel('y')\n",
    "\n",
    "    plt.yticks()\n",
    "\n",
    "    plt.grid(True)\n",
    "\n",
    "    plt.axhline(0, color='black',linewidth=1)\n",
    "\n",
    "    plt.axvline(0, color='black',linewidth=1)\n",
    "\n",
    "\n",
    "\n",
    "    # Establecer el rango del eje y (expandir el rango de y)\n",
    "\n",
    "    plt.ylim(-50, 120)  # Ajusta el rango de y aquí\n",
    "\n",
    "\n",
    "\n",
    "    # Establecer los ticks del eje y manualmente si se desea un rango más amplio\n",
    "\n",
    "    plt.yticks(np.arange(-50, 121, 10))  # Ajusta los valores de los ticks de y\n",
    "\n",
    "\n",
    "\n",
    "    plt.legend()\n",
    "\n",
    "    plt.show()\n",
    "\n",
    "\n",
    "\n",
    "# Crear la interactividad para cambiar el valor de c\n",
    "\n",
    "interact(plot_function, c=(-10, 10, 0.1))  # c entre -10 y 10 con paso de 0.1"
   ]
  },
  {
   "cell_type": "code",
   "execution_count": null,
   "metadata": {},
   "outputs": [
    {
     "data": {
      "application/vnd.jupyter.widget-view+json": {
       "model_id": "8478d359e78f4adf897ac83d1c978083",
       "version_major": 2,
       "version_minor": 0
      },
      "text/plain": [
       "interactive(children=(FloatSlider(value=1.0, description='Valor de c:', max=10.0, min=-10.0), Output()), _dom_…"
      ]
     },
     "metadata": {},
     "output_type": "display_data"
    },
    {
     "data": {
      "text/plain": [
       "<function __main__.graficar_funcion(c)>"
      ]
     },
     "execution_count": 6,
     "metadata": {},
     "output_type": "execute_result"
    }
   ],
   "source": [
    "import matplotlib.pyplot as plt\n",
    "import numpy as np\n",
    "from ipywidgets import FloatSlider, interact\n",
    "\n",
    "def graficar_funcion(c):\n",
    "    \"\"\"\n",
    "    Grafica la función y = x^2 + cx para un valor dado de c.\n",
    "    \n",
    "    Parámetros:\n",
    "    c (float): El valor de la constante que se multiplica por x.\n",
    "    \"\"\"\n",
    "    # Definir el rango de valores para x\n",
    "    x = np.linspace(-20, 20, 800)  # 400 puntos entre -10 y 10\n",
    "    y = x**2 + c * x  # Calcular y usando la función\n",
    "\n",
    "    # Crear la gráfica\n",
    "    plt.figure(figsize=(10, 6))\n",
    "    plt.plot(x, y, label=f'y = x^2 + {c}x', color='blue')\n",
    "\n",
    "    # Añadir títulos y etiquetas\n",
    "    plt.title('Gráfica de la función y = x^2 + cx')\n",
    "    plt.xlabel('x')\n",
    "    plt.ylabel('y')\n",
    "    plt.axhline(0, color='black', linewidth=0.5, ls='--')  # Línea horizontal en y=0\n",
    "    plt.axvline(0, color='black', linewidth=0.5, ls='--')  # Línea vertical en x=0\n",
    "    plt.grid(color='gray', linestyle='--', linewidth=0.5)\n",
    "    plt.legend()\n",
    "    \n",
    "    # Ajustar límites del eje y según el valor de c\n",
    "    max_y = max(y)\n",
    "    min_y = min(y)\n",
    "    plt.ylim(- 50, 120)\n",
    "\n",
    "    # Mostrar la gráfica\n",
    "    plt.show()\n",
    "\n",
    "# Crear un slider para el valor de c\n",
    "c_slider = FloatSlider(value=1, min=-10, max=10, step=0.1, description='Valor de c:')\n",
    "\n",
    "# Usar interact para conectar el slider con la función de graficado\n",
    "interact(graficar_funcion, c=c_slider)\n"
   ]
  }
 ],
 "metadata": {
  "kernelspec": {
   "display_name": "mate",
   "language": "python",
   "name": "python3"
  },
  "language_info": {
   "codemirror_mode": {
    "name": "ipython",
    "version": 3
   },
   "file_extension": ".py",
   "mimetype": "text/x-python",
   "name": "python",
   "nbconvert_exporter": "python",
   "pygments_lexer": "ipython3",
   "version": "3.12.7"
  }
 },
 "nbformat": 4,
 "nbformat_minor": 2
}
