{
 "cells": [
  {
   "cell_type": "code",
   "execution_count": 1,
   "metadata": {},
   "outputs": [
    {
     "data": {
      "text/plain": [
       "4"
      ]
     },
     "execution_count": 1,
     "metadata": {},
     "output_type": "execute_result"
    }
   ],
   "source": [
    "2+2"
   ]
  },
  {
   "cell_type": "code",
   "execution_count": 4,
   "metadata": {},
   "outputs": [],
   "source": [
    "import math\n",
    "\n",
    "import sympy\n",
    "\n",
    "from sympy import symbols, expand, factor, diff, integrate, limit, Function, Eq, dsolve, latex, pi, oo, Integral, init_printing"
   ]
  },
  {
   "cell_type": "code",
   "execution_count": 5,
   "metadata": {},
   "outputs": [
    {
     "name": "stdout",
     "output_type": "stream",
     "text": [
      "2.8284271247461903\n"
     ]
    },
    {
     "data": {
      "image/png": "[encoded data removed]",
      "text/latex": [
       "$\\displaystyle 2 \\sqrt{2}$"
      ],
      "text/plain": [
       "2⋅√2"
      ]
     },
     "metadata": {},
     "output_type": "display_data"
    }
   ],
   "source": [
    "# Initialize pretty printing\n",
    "\n",
    "init_printing(use_unicode=True)\n",
    "\n",
    "\n",
    "\n",
    "# Perform basic math with math and sympy\n",
    "\n",
    "print(math.sqrt(8))\n",
    "\n",
    "display(sympy.sqrt(8))  # Display sqrt(8) in symbolic form"
   ]
  },
  {
   "cell_type": "code",
   "execution_count": 6,
   "metadata": {},
   "outputs": [],
   "source": [
    "# Initialize pretty printing\n",
    "\n",
    "init_printing(use_unicode=True)"
   ]
  },
  {
   "cell_type": "code",
   "execution_count": 7,
   "metadata": {},
   "outputs": [
    {
     "name": "stdout",
     "output_type": "stream",
     "text": [
      "2.8284271247461903\n"
     ]
    },
    {
     "ename": "NameError",
     "evalue": "name 'sqrt' is not defined",
     "output_type": "error",
     "traceback": [
      "\u001b[1;31m---------------------------------------------------------------------------\u001b[0m",
      "\u001b[1;31mNameError\u001b[0m                                 Traceback (most recent call last)",
      "Cell \u001b[1;32mIn[7], line 5\u001b[0m\n\u001b[0;32m      1\u001b[0m \u001b[38;5;66;03m# Perform basic math with math and sympy\u001b[39;00m\n\u001b[0;32m      3\u001b[0m \u001b[38;5;28mprint\u001b[39m(math\u001b[38;5;241m.\u001b[39msqrt(\u001b[38;5;241m8\u001b[39m))  \u001b[38;5;66;03m# This will print the numerical value of sqrt(8)\u001b[39;00m\n\u001b[1;32m----> 5\u001b[0m display(\u001b[43msqrt\u001b[49m(\u001b[38;5;241m8\u001b[39m))  \u001b[38;5;66;03m# Display sqrt(8) in symbolic form with sympy\u001b[39;00m\n",
      "\u001b[1;31mNameError\u001b[0m: name 'sqrt' is not defined"
     ]
    }
   ],
   "source": [
    "# Perform basic math with math and sympy\n",
    "\n",
    "print(math.sqrt(8))  # This will print the numerical value of sqrt(8)\n",
    "\n",
    "display(sqrt(8))  # Display sqrt(8) in symbolic form with sympy"
   ]
  },
  {
   "cell_type": "code",
   "execution_count": 8,
   "metadata": {},
   "outputs": [
    {
     "ename": "NameError",
     "evalue": "name 'x' is not defined",
     "output_type": "error",
     "traceback": [
      "\u001b[1;31m---------------------------------------------------------------------------\u001b[0m",
      "\u001b[1;31mNameError\u001b[0m                                 Traceback (most recent call last)",
      "Cell \u001b[1;32mIn[8], line 3\u001b[0m\n\u001b[0;32m      1\u001b[0m \u001b[38;5;66;03m# Expand and factor expressions\u001b[39;00m\n\u001b[1;32m----> 3\u001b[0m expanded_expr \u001b[38;5;241m=\u001b[39m expand(\u001b[43mx\u001b[49m\u001b[38;5;241m*\u001b[39mexpr)\n\u001b[0;32m      5\u001b[0m display(expanded_expr)\n\u001b[0;32m      7\u001b[0m display(factor(expanded_expr))\n",
      "\u001b[1;31mNameError\u001b[0m: name 'x' is not defined"
     ]
    }
   ],
   "source": [
    "# Expand and factor expressions\n",
    "\n",
    "expanded_expr = expand(x*expr)\n",
    "\n",
    "display(expanded_expr)\n",
    "\n",
    "display(factor(expanded_expr))\n",
    "\n"
   ]
  },
  {
   "cell_type": "code",
   "execution_count": 13,
   "metadata": {},
   "outputs": [],
   "source": [
    "from sympy import symbols\n",
    "\n",
    "# Define la variable simbólica x\n",
    "x, y = symbols('x y')"
   ]
  },
  {
   "cell_type": "code",
   "execution_count": 14,
   "metadata": {},
   "outputs": [
    {
     "data": {
      "image/png": "[encoded data removed]",
      "text/latex": [
       "$\\displaystyle x^{2} + x y^{2}$"
      ],
      "text/plain": [
       " 2      2\n",
       "x  + x⋅y "
      ]
     },
     "metadata": {},
     "output_type": "display_data"
    },
    {
     "data": {
      "image/png": "[encoded data removed]",
      "text/latex": [
       "$\\displaystyle x \\left(x + y^{2}\\right)$"
      ],
      "text/plain": [
       "  ⎛     2⎞\n",
       "x⋅⎝x + y ⎠"
      ]
     },
     "metadata": {},
     "output_type": "display_data"
    }
   ],
   "source": [
    "# Expand and factor expressions\n",
    "expr = x + y**2 \n",
    "\n",
    "expanded_expr = expand(x*expr)\n",
    "\n",
    "display(expanded_expr)\n",
    "\n",
    "display(factor(expanded_expr))"
   ]
  },
  {
   "cell_type": "code",
   "execution_count": 11,
   "metadata": {},
   "outputs": [],
   "source": [
    "x, y, c = symbols (\"x y c\")"
   ]
  },
  {
   "cell_type": "code",
   "execution_count": 15,
   "metadata": {},
   "outputs": [
    {
     "data": {
      "image/png": "[encoded data removed]",
      "text/latex": [
       "$\\displaystyle x^{2} + x y^{2}$"
      ],
      "text/plain": [
       " 2      2\n",
       "x  + x⋅y "
      ]
     },
     "metadata": {},
     "output_type": "display_data"
    },
    {
     "data": {
      "image/png": "[encoded data removed]",
      "text/latex": [
       "$\\displaystyle x \\left(x + y^{2}\\right)$"
      ],
      "text/plain": [
       "  ⎛     2⎞\n",
       "x⋅⎝x + y ⎠"
      ]
     },
     "metadata": {},
     "output_type": "display_data"
    }
   ],
   "source": [
    "# Expand and factor expressions\n",
    "\n",
    "expanded_expr = expand(x*expr)\n",
    "\n",
    "display(expanded_expr)\n",
    "\n",
    "display(factor(expanded_expr))"
   ]
  },
  {
   "cell_type": "code",
   "execution_count": 16,
   "metadata": {},
   "outputs": [
    {
     "data": {
      "image/png": "[encoded data removed]",
      "text/latex": [
       "$\\displaystyle 2 t e^{x} \\cos{\\left(t^{2} \\right)}$"
      ],
      "text/plain": [
       "     x    ⎛ 2⎞\n",
       "2⋅t⋅ℯ ⋅cos⎝t ⎠"
      ]
     },
     "metadata": {},
     "output_type": "display_data"
    }
   ],
   "source": [
    "# Differentiate, integrate, limits\n",
    "\n",
    "x, t, z, nu = symbols('x t z nu')\n",
    "\n",
    "res_diff = diff(sympy.sin(t**2) * sympy.exp(x), t)\n",
    "\n",
    "display(res_diff)"
   ]
  },
  {
   "cell_type": "code",
   "execution_count": 17,
   "metadata": {},
   "outputs": [
    {
     "data": {
      "image/png": "[encoded data removed]",
      "text/latex": [
       "$\\displaystyle e^{x} \\sin{\\left(x \\right)}$"
      ],
      "text/plain": [
       " x       \n",
       "ℯ ⋅sin(x)"
      ]
     },
     "metadata": {},
     "output_type": "display_data"
    }
   ],
   "source": [
    "res_int = integrate(sympy.exp(x)*sympy.sin(x) + sympy.exp(x)*sympy.cos(x), x)\n",
    "\n",
    "display(res_int)"
   ]
  },
  {
   "cell_type": "code",
   "execution_count": 18,
   "metadata": {},
   "outputs": [
    {
     "data": {
      "image/png": "[encoded data removed]",
      "text/latex": [
       "$\\displaystyle \\frac{\\sqrt{2} \\sqrt{\\pi}}{2}$"
      ],
      "text/plain": [
       "√2⋅√π\n",
       "─────\n",
       "  2  "
      ]
     },
     "metadata": {},
     "output_type": "display_data"
    }
   ],
   "source": [
    "display(integrate(sympy.sin(x**2), (x, -oo, oo)))"
   ]
  },
  {
   "cell_type": "code",
   "execution_count": 19,
   "metadata": {},
   "outputs": [
    {
     "data": {
      "image/png": "[encoded data removed]",
      "text/latex": [
       "$\\displaystyle \\frac{1}{3}$"
      ],
      "text/plain": [
       "1/3"
      ]
     },
     "metadata": {},
     "output_type": "display_data"
    }
   ],
   "source": [
    "display(integrate(x**2, (x, 0, 1)))"
   ]
  },
  {
   "cell_type": "code",
   "execution_count": 20,
   "metadata": {},
   "outputs": [
    {
     "data": {
      "image/png": "[encoded data removed]",
      "text/latex": [
       "$\\displaystyle 1$"
      ],
      "text/plain": [
       "1"
      ]
     },
     "metadata": {},
     "output_type": "display_data"
    }
   ],
   "source": [
    "display(limit(sympy.sin(x)/x, x, 0))"
   ]
  },
  {
   "cell_type": "code",
   "execution_count": 21,
   "metadata": {},
   "outputs": [
    {
     "name": "stdout",
     "output_type": "stream",
     "text": [
      "solve cuadrática\n"
     ]
    },
    {
     "data": {
      "image/png": "[encoded data removed]",
      "text/latex": [
       "$\\displaystyle \\left[ -2, \\  2\\right]$"
      ],
      "text/plain": [
       "[-2, 2]"
      ]
     },
     "metadata": {},
     "output_type": "display_data"
    }
   ],
   "source": [
    "# Solving equations and ODEs\n",
    "\n",
    "equation = Eq(x**2 - 4, 0)\n",
    "\n",
    "solution = sympy.solve(equation, x)\n",
    "\n",
    "print(\"solve cuadrática\")\n",
    "\n",
    "display(solution)"
   ]
  },
  {
   "cell_type": "code",
   "execution_count": 22,
   "metadata": {},
   "outputs": [
    {
     "data": {
      "image/png": "[encoded data removed]",
      "text/latex": [
       "$\\displaystyle \\left[ - \\sqrt{c}, \\  \\sqrt{c}\\right]$"
      ],
      "text/plain": [
       "[-√c, √c]"
      ]
     },
     "metadata": {},
     "output_type": "display_data"
    },
    {
     "name": "stdout",
     "output_type": "stream",
     "text": [
      "solve diff\n"
     ]
    },
    {
     "data": {
      "image/png": "[encoded data removed]",
      "text/latex": [
       "$\\displaystyle y{\\left(t \\right)} = C_{2} e^{- t} + \\left(C_{1} + \\frac{t}{2}\\right) e^{t}$"
      ],
      "text/plain": [
       "           -t   ⎛     t⎞  t\n",
       "y(t) = C₂⋅ℯ   + ⎜C₁ + ─⎟⋅ℯ \n",
       "                ⎝     2⎠   "
      ]
     },
     "metadata": {},
     "output_type": "display_data"
    }
   ],
   "source": [
    "res1 = sympy.solve(x**2 - c, x)\n",
    "\n",
    "display(res1)\n",
    "\n",
    "\n",
    "\n",
    "y = Function('y')\n",
    "\n",
    "t = symbols('t')\n",
    "\n",
    "res2 = dsolve(Eq(y(t).diff(t, t) - y(t), sympy.exp(t)), y(t))\n",
    "\n",
    "print(\"solve diff\")\n",
    "\n",
    "display(res2)"
   ]
  },
  {
   "cell_type": "code",
   "execution_count": 23,
   "metadata": {},
   "outputs": [
    {
     "data": {
      "image/png": "[encoded data removed]",
      "text/latex": [
       "$\\displaystyle \\int\\limits_{0}^{\\pi} \\cos^{2}{\\left(x \\right)}\\, dx$"
      ],
      "text/plain": [
       "π           \n",
       "⌠           \n",
       "⎮    2      \n",
       "⎮ cos (x) dx\n",
       "⌡           \n",
       "0           "
      ]
     },
     "metadata": {},
     "output_type": "display_data"
    },
    {
     "name": "stdout",
     "output_type": "stream",
     "text": [
      "LaTeX string: \\int\\limits_{0}^{\\pi} \\cos^{2}{\\left(x \\right)}\\, dx\n"
     ]
    }
   ],
   "source": [
    "# Display integral in LaTeX format\n",
    "\n",
    "display(Integral(sympy.cos(x)**2, (x, 0, pi)))\n",
    "\n",
    "\n",
    "\n",
    "# If you want the LaTeX string for use elsewhere:\n",
    "\n",
    "latex_str = latex(Integral(sympy.cos(x)**2, (x, 0, pi)))\n",
    "\n",
    "print(\"LaTeX string:\", latex_str)"
   ]
  },
  {
   "cell_type": "code",
   "execution_count": 24,
   "metadata": {},
   "outputs": [],
   "source": [
    "# Initialize pretty printing\n",
    "\n",
    "init_printing(use_unicode=True)"
   ]
  },
  {
   "cell_type": "code",
   "execution_count": 25,
   "metadata": {},
   "outputs": [],
   "source": [
    "# Define symbols\n",
    "\n",
    "x, y = symbols('x y')"
   ]
  },
  {
   "cell_type": "code",
   "execution_count": 26,
   "metadata": {},
   "outputs": [],
   "source": [
    "# Define an expression\n",
    "\n",
    "expr = x**3 * y**2 + x**2 * y**3"
   ]
  },
  {
   "cell_type": "code",
   "execution_count": 27,
   "metadata": {},
   "outputs": [
    {
     "data": {
      "text/plain": [
       "'∂/∂x:'"
      ]
     },
     "metadata": {},
     "output_type": "display_data"
    },
    {
     "data": {
      "image/png": "[encoded data removed]",
      "text/latex": [
       "$\\displaystyle 3 x^{2} y^{2} + 2 x y^{3}$"
      ],
      "text/plain": [
       "   2  2        3\n",
       "3⋅x ⋅y  + 2⋅x⋅y "
      ]
     },
     "metadata": {},
     "output_type": "display_data"
    }
   ],
   "source": [
    "# First partial derivative with respect to x\n",
    "\n",
    "partial_x = diff(expr, x)\n",
    "\n",
    "display(\"∂/∂x:\", partial_x)"
   ]
  },
  {
   "cell_type": "code",
   "execution_count": 28,
   "metadata": {},
   "outputs": [
    {
     "data": {
      "text/plain": [
       "'∂²/∂x²:'"
      ]
     },
     "metadata": {},
     "output_type": "display_data"
    },
    {
     "data": {
      "image/png": "[encoded data removed]",
      "text/latex": [
       "$\\displaystyle 2 y^{2} \\left(3 x + y\\right)$"
      ],
      "text/plain": [
       "   2          \n",
       "2⋅y ⋅(3⋅x + y)"
      ]
     },
     "metadata": {},
     "output_type": "display_data"
    }
   ],
   "source": [
    "# Second partial derivative with respect to x\n",
    "\n",
    "second_partial_x = diff(expr, x, 2)\n",
    "\n",
    "display(\"∂²/∂x²:\", second_partial_x)"
   ]
  },
  {
   "cell_type": "code",
   "execution_count": 29,
   "metadata": {},
   "outputs": [
    {
     "data": {
      "text/plain": [
       "'∂²/∂x∂y:'"
      ]
     },
     "metadata": {},
     "output_type": "display_data"
    },
    {
     "data": {
      "image/png": "[encoded data removed]",
      "text/latex": [
       "$\\displaystyle 6 x y \\left(x + y\\right)$"
      ],
      "text/plain": [
       "6⋅x⋅y⋅(x + y)"
      ]
     },
     "metadata": {},
     "output_type": "display_data"
    }
   ],
   "source": [
    "# Mixed second partial derivative ∂²/∂x∂y\n",
    "\n",
    "mixed_partial = diff(expr, x, y)\n",
    "\n",
    "display(\"∂²/∂x∂y:\", mixed_partial)"
   ]
  },
  {
   "cell_type": "code",
   "execution_count": 30,
   "metadata": {},
   "outputs": [
    {
     "data": {
      "text/plain": [
       "'∂³/∂x²∂y:'"
      ]
     },
     "metadata": {},
     "output_type": "display_data"
    },
    {
     "data": {
      "image/png": "[encoded data removed]",
      "text/latex": [
       "$\\displaystyle 6 y \\left(2 x + y\\right)$"
      ],
      "text/plain": [
       "6⋅y⋅(2⋅x + y)"
      ]
     },
     "metadata": {},
     "output_type": "display_data"
    }
   ],
   "source": [
    "# Third partial derivative ∂³/∂x²∂y\n",
    "\n",
    "third_partial_mixed = diff(expr, x, 2, y)\n",
    "\n",
    "display(\"∂³/∂x²∂y:\", third_partial_mixed)"
   ]
  },
  {
   "cell_type": "code",
   "execution_count": 31,
   "metadata": {},
   "outputs": [],
   "source": [
    "from sympy import symbols, Function, Eq, solve"
   ]
  },
  {
   "cell_type": "code",
   "execution_count": 32,
   "metadata": {},
   "outputs": [],
   "source": [
    "# Initialize pretty printing\n",
    "\n",
    "init_printing(use_unicode=True)"
   ]
  },
  {
   "cell_type": "code",
   "execution_count": 33,
   "metadata": {},
   "outputs": [],
   "source": [
    "# Define symbols (variables)\n",
    "\n",
    "x, y, c1, c2 = symbols('x y c1 c2')"
   ]
  },
  {
   "cell_type": "code",
   "execution_count": 34,
   "metadata": {},
   "outputs": [],
   "source": [
    "# Define a multivariable function f(x, y)\n",
    "\n",
    "f = c1*x**2 + c2*y**2 + x*y"
   ]
  },
  {
   "cell_type": "code",
   "execution_count": 35,
   "metadata": {},
   "outputs": [
    {
     "data": {
      "text/plain": [
       "'Solution for x:'"
      ]
     },
     "metadata": {},
     "output_type": "display_data"
    },
    {
     "data": {
      "image/png": "[encoded data removed]",
      "text/latex": [
       "$\\displaystyle \\left[ \\frac{y \\left(\\sqrt{- 4 c_{1} c_{2} + 1} - 1\\right)}{2 c_{1}}, \\  - \\frac{y \\left(\\sqrt{- 4 c_{1} c_{2} + 1} + 1\\right)}{2 c_{1}}\\right]$"
      ],
      "text/plain": [
       "⎡  ⎛  ______________    ⎞     ⎛  ______________    ⎞ ⎤\n",
       "⎢y⋅⎝╲╱ -4⋅c₁⋅c₂ + 1  - 1⎠  -y⋅⎝╲╱ -4⋅c₁⋅c₂ + 1  + 1⎠ ⎥\n",
       "⎢────────────────────────, ──────────────────────────⎥\n",
       "⎣          2⋅c₁                       2⋅c₁           ⎦"
      ]
     },
     "metadata": {},
     "output_type": "display_data"
    }
   ],
   "source": [
    "# Solve the equation f(x, y) = 0 for x\n",
    "\n",
    "equation = Eq(f, 0)\n",
    "\n",
    "solution_x = solve(equation, x)\n",
    "\n",
    "display(\"Solution for x:\", solution_x)"
   ]
  },
  {
   "cell_type": "code",
   "execution_count": 36,
   "metadata": {},
   "outputs": [
    {
     "data": {
      "text/plain": [
       "'Solution for y:'"
      ]
     },
     "metadata": {},
     "output_type": "display_data"
    },
    {
     "data": {
      "image/png": "[encoded data removed]",
      "text/latex": [
       "$\\displaystyle \\left[ \\frac{x \\left(\\sqrt{- 4 c_{1} c_{2} + 1} - 1\\right)}{2 c_{2}}, \\  - \\frac{x \\left(\\sqrt{- 4 c_{1} c_{2} + 1} + 1\\right)}{2 c_{2}}\\right]$"
      ],
      "text/plain": [
       "⎡  ⎛  ______________    ⎞     ⎛  ______________    ⎞ ⎤\n",
       "⎢x⋅⎝╲╱ -4⋅c₁⋅c₂ + 1  - 1⎠  -x⋅⎝╲╱ -4⋅c₁⋅c₂ + 1  + 1⎠ ⎥\n",
       "⎢────────────────────────, ──────────────────────────⎥\n",
       "⎣          2⋅c₂                       2⋅c₂           ⎦"
      ]
     },
     "metadata": {},
     "output_type": "display_data"
    }
   ],
   "source": [
    "# Solve the equation f(x, y) = 0 for y\n",
    "\n",
    "solution_y = solve(equation, y)\n",
    "\n",
    "display(\"Solution for y:\", solution_y)"
   ]
  },
  {
   "cell_type": "code",
   "execution_count": 37,
   "metadata": {},
   "outputs": [],
   "source": [
    "# calculo de los optimos \n",
    "\n",
    "# demanda walrasiana Cobb Douglas\n",
    "\n",
    "\n",
    "\n",
    "from sympy import symbols, diff, Eq, solve, simplify, expand, factor, cancel, collect, Matrix\n",
    "\n",
    "\n",
    "\n",
    "# Initialize pretty printing\n",
    "\n",
    "init_printing(use_unicode=True)"
   ]
  },
  {
   "cell_type": "code",
   "execution_count": 38,
   "metadata": {},
   "outputs": [
    {
     "data": {
      "image/png": "[encoded data removed]",
      "text/latex": [
       "$\\displaystyle c x^{\\alpha} y^{1 - \\alpha} + h \\left(- p_{x} x - p_{y} y + w\\right)$"
      ],
      "text/plain": [
       "   α  1 - α                        \n",
       "c⋅x ⋅y      + h⋅(-pₓ⋅x - p_y⋅y + w)"
      ]
     },
     "metadata": {},
     "output_type": "display_data"
    },
    {
     "data": {
      "text/plain": [
       "'foc for x:'"
      ]
     },
     "metadata": {},
     "output_type": "display_data"
    },
    {
     "data": {
      "image/png": "[encoded data removed]",
      "text/latex": [
       "$\\displaystyle \\frac{\\alpha c x^{\\alpha} y^{1 - \\alpha}}{x} - h p_{x}$"
      ],
      "text/plain": [
       "     α  1 - α       \n",
       "α⋅c⋅x ⋅y            \n",
       "───────────── - h⋅pₓ\n",
       "      x             "
      ]
     },
     "metadata": {},
     "output_type": "display_data"
    },
    {
     "data": {
      "text/plain": [
       "'foc for y:'"
      ]
     },
     "metadata": {},
     "output_type": "display_data"
    },
    {
     "data": {
      "image/png": "[encoded data removed]",
      "text/latex": [
       "$\\displaystyle \\frac{- c x^{\\alpha} y^{1 - \\alpha} \\left(\\alpha - 1\\right) - h p_{y} y}{y}$"
      ],
      "text/plain": [
       "     α  1 - α                  \n",
       "- c⋅x ⋅y     ⋅(α - 1) - h⋅p_y⋅y\n",
       "───────────────────────────────\n",
       "               y               "
      ]
     },
     "metadata": {},
     "output_type": "display_data"
    },
    {
     "data": {
      "text/plain": [
       "'foc for h:'"
      ]
     },
     "metadata": {},
     "output_type": "display_data"
    },
    {
     "data": {
      "image/png": "[encoded data removed]",
      "text/latex": [
       "$\\displaystyle - p_{x} x - p_{y} y + w$"
      ],
      "text/plain": [
       "-pₓ⋅x - p_y⋅y + w"
      ]
     },
     "metadata": {},
     "output_type": "display_data"
    }
   ],
   "source": [
    "# Define symbols (variables)\n",
    "\n",
    "x, y, p_x, p_y, w, c, alpha, h = symbols('x y p_x p_y w c alpha h')\n",
    "\n",
    "\n",
    "\n",
    "# Define a multivariable function f(x, y)\n",
    "\n",
    "L = c*(x**alpha)*(y**(1-alpha))+ h*(w-p_x*x-p_y*y)\n",
    "\n",
    "display(L)\n",
    "\n",
    "# first order conditions\n",
    "\n",
    "\n",
    "\n",
    "foc_x = simplify(diff(L,x))\n",
    "\n",
    "foc_y = simplify(diff(L,y))\n",
    "\n",
    "foc_h =  simplify(diff(L,h))\n",
    "\n",
    "\n",
    "\n",
    "display(\"foc for x:\", foc_x)\n",
    "\n",
    "display(\"foc for y:\", foc_y)\n",
    "\n",
    "display(\"foc for h:\", foc_h)"
   ]
  },
  {
   "cell_type": "code",
   "execution_count": 39,
   "metadata": {},
   "outputs": [
    {
     "name": "stdout",
     "output_type": "stream",
     "text": [
      "Solutions for the system:\n"
     ]
    },
    {
     "data": {
      "image/png": "[encoded data removed]",
      "text/latex": [
       "$\\displaystyle \\left[ \\left( \\frac{\\alpha w}{p_{x}}, \\  \\frac{w \\left(1 - \\alpha\\right)}{p_{y}}, \\  \\frac{c \\left(\\frac{\\alpha w}{p_{x}}\\right)^{\\alpha} \\left(\\frac{w \\left(1 - \\alpha\\right)}{p_{y}}\\right)^{1 - \\alpha}}{w}\\right)\\right]$"
      ],
      "text/plain": [
       "⎡⎛                       α            1 - α⎞⎤\n",
       "⎢⎜                  ⎛α⋅w⎞  ⎛w⋅(1 - α)⎞     ⎟⎥\n",
       "⎢⎜                c⋅⎜───⎟ ⋅⎜─────────⎟     ⎟⎥\n",
       "⎢⎜α⋅w  w⋅(1 - α)    ⎝pₓ ⎠  ⎝   p_y   ⎠     ⎟⎥\n",
       "⎢⎜───, ─────────, ─────────────────────────⎟⎥\n",
       "⎣⎝pₓ      p_y                 w            ⎠⎦"
      ]
     },
     "metadata": {},
     "output_type": "display_data"
    }
   ],
   "source": [
    "# Solve the system foc_x = 0, foc_y = 0, foc_h = 0\n",
    "\n",
    "solutions = solve([Eq(foc_x, 0), Eq(foc_y, 0), Eq(foc_h, 0)], (x, y, h))\n",
    "\n",
    "simplified_solutions = [simplify(sol) for sol in solutions]\n",
    "\n",
    "# Output the solutions for x, y, and h\n",
    "\n",
    "print(\"Solutions for the system:\")\n",
    "\n",
    "display(simplified_solutions)"
   ]
  }
 ],
 "metadata": {
  "kernelspec": {
   "display_name": "mega",
   "language": "python",
   "name": "python3"
  },
  "language_info": {
   "codemirror_mode": {
    "name": "ipython",
    "version": 3
   },
   "file_extension": ".py",
   "mimetype": "text/x-python",
   "name": "python",
   "nbconvert_exporter": "python",
   "pygments_lexer": "ipython3",
   "version": "3.10.15"
  }
 },
 "nbformat": 4,
 "nbformat_minor": 2
}
