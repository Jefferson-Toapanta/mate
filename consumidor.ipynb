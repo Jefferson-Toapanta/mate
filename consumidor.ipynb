{
 "cells": [
  {
   "cell_type": "code",
   "execution_count": 2,
   "metadata": {},
   "outputs": [
    {
     "data": {
      "image/png": "[encoded data removed]",
      "text/latex": [
       "$\\displaystyle - p_{x} x - p_{y} y + w$"
      ],
      "text/plain": [
       "-pₓ⋅x - p_y⋅y + w"
      ]
     },
     "metadata": {},
     "output_type": "display_data"
    },
    {
     "data": {
      "image/png": "[encoded data removed]",
      "text/latex": [
       "$\\displaystyle 2 c x - h p_{x}$"
      ],
      "text/plain": [
       "2⋅c⋅x - h⋅pₓ"
      ]
     },
     "metadata": {},
     "output_type": "display_data"
    },
    {
     "data": {
      "image/png": "[encoded data removed]",
      "text/latex": [
       "$\\displaystyle - h p_{y} + 2 y$"
      ],
      "text/plain": [
       "-h⋅p_y + 2⋅y"
      ]
     },
     "metadata": {},
     "output_type": "display_data"
    },
    {
     "data": {
      "image/png": "[encoded data removed]",
      "text/latex": [
       "$\\displaystyle \\left\\{ h : \\frac{2 c w}{c p_{y}^{2} + p_{x}^{2}}, \\  x : \\frac{p_{x} w}{c p_{y}^{2} + p_{x}^{2}}, \\  y : \\frac{c p_{y} w}{c p_{y}^{2} + p_{x}^{2}}\\right\\}$"
      ],
      "text/plain": [
       "⎧      2⋅c⋅w             pₓ⋅w           c⋅p_y⋅w   ⎫\n",
       "⎪h: ────────────, x: ────────────, y: ────────────⎪\n",
       "⎨        2     2          2     2          2     2⎬\n",
       "⎪   c⋅p_y  + pₓ      c⋅p_y  + pₓ      c⋅p_y  + pₓ ⎪\n",
       "⎩                                                 ⎭"
      ]
     },
     "metadata": {},
     "output_type": "display_data"
    },
    {
     "name": "stdout",
     "output_type": "stream",
     "text": [
      "Bordered Hessian Matrix:\n"
     ]
    },
    {
     "data": {
      "text/latex": [
       "$\\displaystyle \\left[\\begin{matrix}0 & - p_{x} & - p_{y}\\\\- p_{x} & 2 c & 0\\\\- p_{y} & 0 & 2\\end{matrix}\\right]$"
      ],
      "text/plain": [
       "⎡ 0    -pₓ  -p_y⎤\n",
       "⎢               ⎥\n",
       "⎢-pₓ   2⋅c   0  ⎥\n",
       "⎢               ⎥\n",
       "⎣-p_y   0    2  ⎦"
      ]
     },
     "metadata": {},
     "output_type": "display_data"
    },
    {
     "name": "stdout",
     "output_type": "stream",
     "text": [
      "Bordered Hessian Matrix evaluated at the optimal point:\n"
     ]
    },
    {
     "data": {
      "text/latex": [
       "$\\displaystyle \\left[\\begin{matrix}0 & - p_{x} & - p_{y}\\\\- p_{x} & 2 c & 0\\\\- p_{y} & 0 & 2\\end{matrix}\\right]$"
      ],
      "text/plain": [
       "⎡ 0    -pₓ  -p_y⎤\n",
       "⎢               ⎥\n",
       "⎢-pₓ   2⋅c   0  ⎥\n",
       "⎢               ⎥\n",
       "⎣-p_y   0    2  ⎦"
      ]
     },
     "metadata": {},
     "output_type": "display_data"
    }
   ],
   "source": [
    "# Esta es la demanda Hessian end donde la vamos a maximizar \n",
    "\n",
    "from sympy import symbols, diff, Matrix, Eq, solve, simplify, det,init_printing\n",
    "\n",
    "# Initialize pretty printing\n",
    "\n",
    "init_printing(use_unicode=True)\n",
    "\n",
    "\n",
    "\n",
    "# Define symbols (variables)\n",
    "\n",
    "x, y, p_x, p_y, w, c, alpha, beta, h = symbols('x y p_x p_y w c alpha beta h')\n",
    "\n",
    "\n",
    "\n",
    "# función a maximizar\n",
    "\n",
    "f = c * (x**2) + (y**2)\n",
    "\n",
    "\n",
    "\n",
    "# Constraint function (px*x + py*y - w = 0)\n",
    "\n",
    "g = -p_x * x - p_y * y + w\n",
    "\n",
    "\n",
    "\n",
    "\n",
    "\n",
    "# Define the Lagrangian L(x, y, h)\n",
    "\n",
    "L = f + h * g\n",
    "\n",
    "\n",
    "\n",
    "# First-order conditions (FOCs)\n",
    "\n",
    "foc_x = diff(L, x)  # FOC with respect to x\n",
    "\n",
    "foc_y = diff(L, y)  # FOC with respect to y\n",
    "\n",
    "foc_h = diff(L, h)  # FOC with respect to h\n",
    "\n",
    "\n",
    "\n",
    "display(foc_h)\n",
    "\n",
    "display(foc_x)\n",
    "\n",
    "display(foc_y)\n",
    "\n",
    "\n",
    "\n",
    "# Solve the system of FOCs\n",
    "\n",
    "solutions = solve([Eq(foc_x, 0), Eq(foc_y, 0), Eq(foc_h, 0)], (x, y, h))\n",
    "\n",
    "display(solutions)\n",
    "\n",
    "\n",
    "\n",
    "# Extract the optimal values for x, y, and h\n",
    "\n",
    "optimal_h ,optimal_x, optimal_y = solutions\n",
    "\n",
    "\n",
    "\n",
    "# Second derivatives (Hessian of L)\n",
    "\n",
    "d2L_dx2 = diff(foc_x, x)\n",
    "\n",
    "d2L_dy2 = diff(foc_y, y)\n",
    "\n",
    "d2L_dxdy = diff(foc_x, y)\n",
    "\n",
    "\n",
    "\n",
    "\n",
    "\n",
    "\n",
    "\n",
    "# Derivatives of the constraint function\n",
    "\n",
    "dg_dx = diff(g, x)\n",
    "\n",
    "dg_dy = diff(g, y)\n",
    "\n",
    "\n",
    "\n",
    "# Bordered Hessian matrix construction\n",
    "\n",
    "Hessian_L = Matrix([\n",
    "\n",
    "    [0, dg_dx, dg_dy],  # First row: derivatives of the constraint\n",
    "\n",
    "    [dg_dx, d2L_dx2, d2L_dxdy],  # Second row: derivatives with respect to x\n",
    "\n",
    "    [dg_dy, d2L_dxdy, d2L_dy2]   # Third row: derivatives with respect to y\n",
    "\n",
    "])\n",
    "\n",
    "\n",
    "\n",
    "# Simplify the Hessian matrix\n",
    "\n",
    "simplified_Hessian = simplify(Hessian_L)\n",
    "\n",
    "\n",
    "\n",
    "# Evaluate the Hessian matrix at the optimal point\n",
    "\n",
    "evaluated_Hessian = simplified_Hessian.subs({x: optimal_x, y: optimal_y, h: optimal_h})\n",
    "\n",
    "\n",
    "\n",
    "# Display the results\n",
    "\n",
    "print(\"Bordered Hessian Matrix:\")\n",
    "\n",
    "display(simplified_Hessian)\n",
    "\n",
    "\n",
    "\n",
    "print(\"Bordered Hessian Matrix evaluated at the optimal point:\")\n",
    "\n",
    "display(evaluated_Hessian)"
   ]
  },
  {
   "cell_type": "code",
   "execution_count": 8,
   "metadata": {},
   "outputs": [],
   "source": [
    "# Esta es la demanda Hessian end donde la vamos a maximizar la canasta\n",
    "\n",
    "from sympy import symbols, diff, Matrix, Eq, solve, simplify, det,init_printing\n",
    "\n",
    "# Initialize pretty printing\n",
    "\n",
    "init_printing(use_unicode=True)"
   ]
  },
  {
   "cell_type": "code",
   "execution_count": null,
   "metadata": {},
   "outputs": [],
   "source": [
    "# Define symbols (variables)\n",
    "\n",
    "x, y, p_x, p_y, w, c, alpha, beta, h = symbols('x y p_x p_y w c alpha beta h')\n",
    "\n",
    "\n",
    "\n",
    "# función a maximizar\n",
    "\n",
    "f = - (p_x * x + p_y * y )\n",
    "g = -p_x * x - p_y * y + w\n",
    "\n",
    "\n",
    "# Constraint function (px*x + py*y - w = 0)\n",
    "\n",
    "g = -p_x * x - p_y * y + w"
   ]
  }
 ],
 "metadata": {
  "kernelspec": {
   "display_name": "mega",
   "language": "python",
   "name": "python3"
  },
  "language_info": {
   "codemirror_mode": {
    "name": "ipython",
    "version": 3
   },
   "file_extension": ".py",
   "mimetype": "text/x-python",
   "name": "python",
   "nbconvert_exporter": "python",
   "pygments_lexer": "ipython3",
   "version": "3.10.15"
  }
 },
 "nbformat": 4,
 "nbformat_minor": 2
}
