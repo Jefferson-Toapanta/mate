{
 "cells": [
  {
   "cell_type": "code",
   "execution_count": 1,
   "metadata": {},
   "outputs": [
    {
     "data": {
      "application/vnd.jupyter.widget-view+json": {
       "model_id": "e919eb8f5b40487c9afa961bde36d9b2",
       "version_major": 2,
       "version_minor": 0
      },
      "text/plain": [
       "interactive(children=(FloatSlider(value=1.0, description='Valor de r:', max=3.0, min=-3.0), Output()), _dom_cl…"
      ]
     },
     "metadata": {},
     "output_type": "display_data"
    },
    {
     "data": {
      "text/plain": [
       "<function __main__.plot_function(r)>"
      ]
     },
     "execution_count": 1,
     "metadata": {},
     "output_type": "execute_result"
    }
   ],
   "source": [
    "import numpy as np\n",
    "import matplotlib.pyplot as plt\n",
    "from ipywidgets import interact, FloatSlider\n",
    "\n",
    "# Definimos el rango de valores para x\n",
    "x = np.linspace(-2, 2, 400)\n",
    "\n",
    "# Función para graficar\n",
    "def plot_function(r):\n",
    "    y = x * (r - x**2)\n",
    "    \n",
    "    plt.figure(figsize=(8, 6))\n",
    "    plt.plot(x, y, label=f'y = x({r} - x²)', color='blue')\n",
    "    plt.title(f'Gráfica de y = x({r} - x²)')\n",
    "    plt.xlabel('x')\n",
    "    plt.ylabel('y')\n",
    "    plt.axhline(0, color='black', linewidth=0.5, ls='--')\n",
    "    plt.axvline(0, color='black', linewidth=0.5, ls='--')\n",
    "    plt.grid(color='gray', linestyle='--', linewidth=0.5)\n",
    "    plt.legend()\n",
    "    plt.xlim(-2, 2)\n",
    "    plt.ylim(-2, 2)\n",
    "    plt.show()\n",
    "\n",
    "# Slider para el parámetro r\n",
    "slider = FloatSlider(value=1.0, min=-3.0, max=3.0, step=0.1, description='Valor de r:')\n",
    "interact(plot_function, r=slider)\n"
   ]
  },
  {
   "cell_type": "code",
   "execution_count": 1,
   "metadata": {},
   "outputs": [
    {
     "data": {
      "application/vnd.jupyter.widget-view+json": {
       "model_id": "539ceffd7f1a4cf68fbf92677fa463d0",
       "version_major": 2,
       "version_minor": 0
      },
      "text/plain": [
       "interactive(children=(FloatSlider(value=1.0, description='Valor de r:', max=3.0, min=0.1), Output()), _dom_cla…"
      ]
     },
     "metadata": {},
     "output_type": "display_data"
    },
    {
     "data": {
      "text/plain": [
       "<function __main__.plot_function(r)>"
      ]
     },
     "execution_count": 1,
     "metadata": {},
     "output_type": "execute_result"
    }
   ],
   "source": [
    "import numpy as np\n",
    "import matplotlib.pyplot as plt\n",
    "from ipywidgets import interact, FloatSlider\n",
    "\n",
    "# Definimos el rango de valores para x\n",
    "x = np.linspace(-2, 2, 400)\n",
    "\n",
    "# Función para graficar\n",
    "def plot_function(r):\n",
    "    if r > 0:\n",
    "        y = x * (r - x**2)\n",
    "        \n",
    "        plt.figure(figsize=(8, 6))\n",
    "        plt.plot(x, y, label=f'y = x({r} - x²)', color='blue')\n",
    "        plt.title(f'Gráfica de y = x({r} - x²) para r > 0')\n",
    "        plt.xlabel('x')\n",
    "        plt.ylabel('y')\n",
    "        plt.axhline(0, color='black', linewidth=0.5, ls='--')\n",
    "        plt.axvline(0, color='black', linewidth=0.5, ls='--')\n",
    "        plt.grid(color='gray', linestyle='--', linewidth=0.5)\n",
    "        plt.legend()\n",
    "        plt.xlim(-2, 2)\n",
    "        plt.ylim(-2, 2)\n",
    "        plt.show()\n",
    "    else:\n",
    "        print(\"Por favor, selecciona un valor de r mayor que 0.\")\n",
    "\n",
    "# Slider para el parámetro r (solo valores positivos)\n",
    "slider = FloatSlider(value=1.0, min=0.1, max=3.0, step=0.1, description='Valor de r:')\n",
    "interact(plot_function, r=slider)\n"
   ]
  },
  {
   "cell_type": "code",
   "execution_count": 2,
   "metadata": {},
   "outputs": [
    {
     "data": {
      "application/vnd.jupyter.widget-view+json": {
       "model_id": "6e4c99e176a146a7ae86df75399d6797",
       "version_major": 2,
       "version_minor": 0
      },
      "text/plain": [
       "interactive(children=(FloatSlider(value=-1.0, description='Valor de r:', max=-0.1, min=-3.0), Output()), _dom_…"
      ]
     },
     "metadata": {},
     "output_type": "display_data"
    },
    {
     "data": {
      "text/plain": [
       "<function __main__.plot_function(r)>"
      ]
     },
     "execution_count": 2,
     "metadata": {},
     "output_type": "execute_result"
    }
   ],
   "source": [
    "import numpy as np\n",
    "import matplotlib.pyplot as plt\n",
    "from ipywidgets import interact, FloatSlider\n",
    "\n",
    "# Definimos el rango de valores para x\n",
    "x = np.linspace(-2, 2, 400)\n",
    "\n",
    "# Función para graficar\n",
    "def plot_function(r):\n",
    "    if r < 0:\n",
    "        y = x * (r - x**2)\n",
    "        \n",
    "        plt.figure(figsize=(8, 6))\n",
    "        plt.plot(x, y, label=f'y = x({r} - x²)', color='blue')\n",
    "        plt.title(f'Gráfica de y = x({r} - x²) para r < 0')\n",
    "        plt.xlabel('x')\n",
    "        plt.ylabel('y')\n",
    "        plt.axhline(0, color='black', linewidth=0.5, ls='--')\n",
    "        plt.axvline(0, color='black', linewidth=0.5, ls='--')\n",
    "        plt.grid(color='gray', linestyle='--', linewidth=0.5)\n",
    "        plt.legend()\n",
    "        plt.xlim(-2, 2)\n",
    "        plt.ylim(-2, 2)\n",
    "        plt.show()\n",
    "    else:\n",
    "        print(\"Por favor, selecciona un valor de r menor que 0.\")\n",
    "\n",
    "# Slider para el parámetro r (solo valores negativos)\n",
    "slider = FloatSlider(value=-1.0, min=-3.0, max=-0.1, step=0.1, description='Valor de r:')\n",
    "interact(plot_function, r=slider)\n"
   ]
  }
 ],
 "metadata": {
  "kernelspec": {
   "display_name": "mate",
   "language": "python",
   "name": "python3"
  },
  "language_info": {
   "codemirror_mode": {
    "name": "ipython",
    "version": 3
   },
   "file_extension": ".py",
   "mimetype": "text/x-python",
   "name": "python",
   "nbconvert_exporter": "python",
   "pygments_lexer": "ipython3",
   "version": "3.12.7"
  }
 },
 "nbformat": 4,
 "nbformat_minor": 2
}
